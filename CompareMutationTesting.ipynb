{
 "cells": [
  {
   "cell_type": "code",
   "execution_count": 1,
   "metadata": {},
   "outputs": [
    {
     "name": "stdout",
     "output_type": "stream",
     "text": [
      "C:\\Users\\Ruins Leon\\Anaconda3\\lib\\csv.py\n",
      "TS1 V1 menghasilkan FCI : 1 dan Non-FCI : 497\n",
      "TS1 V2 menghasilkan FCI : 24 dan Non-FCI : 474\n",
      "TS1 V3 menghasilkan FCI : 17 dan Non-FCI : 481\n",
      "TS1 V4 menghasilkan FCI : 46 dan Non-FCI : 452\n",
      "TS1 V5 menghasilkan FCI : 20 dan Non-FCI : 478\n",
      "TS1 V6 menghasilkan FCI : 1 dan Non-FCI : 497\n",
      "TS1 V7 menghasilkan FCI : 21 dan Non-FCI : 477\n",
      "TS1 V8 menghasilkan FCI : 3 dan Non-FCI : 495\n",
      "TS1 V9 menghasilkan FCI : 0 dan Non-FCI : 498\n",
      "TS2 V1 menghasilkan FCI : 0 dan Non-FCI : 498\n"
     ]
    },
    {
     "ename": "KeyboardInterrupt",
     "evalue": "",
     "output_type": "error",
     "traceback": [
      "\u001b[1;31m---------------------------------------------------------------------------\u001b[0m",
      "\u001b[1;31mKeyboardInterrupt\u001b[0m                         Traceback (most recent call last)",
      "\u001b[1;32m<ipython-input-1-5a7837d81a5d>\u001b[0m in \u001b[0;36m<module>\u001b[1;34m()\u001b[0m\n\u001b[0;32m     35\u001b[0m                                 \u001b[0mdata_origin\u001b[0m \u001b[1;33m=\u001b[0m \u001b[0mfile_origin\u001b[0m\u001b[1;33m.\u001b[0m\u001b[0mread\u001b[0m\u001b[1;33m(\u001b[0m\u001b[1;33m)\u001b[0m\u001b[1;33m\u001b[0m\u001b[0m\n\u001b[0;32m     36\u001b[0m \u001b[1;33m\u001b[0m\u001b[0m\n\u001b[1;32m---> 37\u001b[1;33m                                 \u001b[0mfile_v\u001b[0m \u001b[1;33m=\u001b[0m \u001b[0mopen\u001b[0m\u001b[1;33m(\u001b[0m\u001b[0mpath_v\u001b[0m\u001b[1;33m+\u001b[0m\u001b[0mfile_name\u001b[0m\u001b[1;33m,\u001b[0m \u001b[1;34m\"r\"\u001b[0m\u001b[1;33m)\u001b[0m\u001b[1;33m\u001b[0m\u001b[0m\n\u001b[0m\u001b[0;32m     38\u001b[0m                                 \u001b[0mdata_v\u001b[0m \u001b[1;33m=\u001b[0m \u001b[0mfile_v\u001b[0m\u001b[1;33m.\u001b[0m\u001b[0mread\u001b[0m\u001b[1;33m(\u001b[0m\u001b[1;33m)\u001b[0m\u001b[1;33m\u001b[0m\u001b[0m\n\u001b[0;32m     39\u001b[0m \u001b[1;33m\u001b[0m\u001b[0m\n",
      "\u001b[1;32m~\\Anaconda3\\lib\\_bootlocale.py\u001b[0m in \u001b[0;36mgetpreferredencoding\u001b[1;34m(do_setlocale)\u001b[0m\n\u001b[0;32m      9\u001b[0m \u001b[1;33m\u001b[0m\u001b[0m\n\u001b[0;32m     10\u001b[0m \u001b[1;32mif\u001b[0m \u001b[0msys\u001b[0m\u001b[1;33m.\u001b[0m\u001b[0mplatform\u001b[0m\u001b[1;33m.\u001b[0m\u001b[0mstartswith\u001b[0m\u001b[1;33m(\u001b[0m\u001b[1;34m\"win\"\u001b[0m\u001b[1;33m)\u001b[0m\u001b[1;33m:\u001b[0m\u001b[1;33m\u001b[0m\u001b[0m\n\u001b[1;32m---> 11\u001b[1;33m     \u001b[1;32mdef\u001b[0m \u001b[0mgetpreferredencoding\u001b[0m\u001b[1;33m(\u001b[0m\u001b[0mdo_setlocale\u001b[0m\u001b[1;33m=\u001b[0m\u001b[1;32mTrue\u001b[0m\u001b[1;33m)\u001b[0m\u001b[1;33m:\u001b[0m\u001b[1;33m\u001b[0m\u001b[0m\n\u001b[0m\u001b[0;32m     12\u001b[0m         \u001b[1;32mreturn\u001b[0m \u001b[0m_locale\u001b[0m\u001b[1;33m.\u001b[0m\u001b[0m_getdefaultlocale\u001b[0m\u001b[1;33m(\u001b[0m\u001b[1;33m)\u001b[0m\u001b[1;33m[\u001b[0m\u001b[1;36m1\u001b[0m\u001b[1;33m]\u001b[0m\u001b[1;33m\u001b[0m\u001b[0m\n\u001b[0;32m     13\u001b[0m \u001b[1;32melse\u001b[0m\u001b[1;33m:\u001b[0m\u001b[1;33m\u001b[0m\u001b[0m\n",
      "\u001b[1;31mKeyboardInterrupt\u001b[0m: "
     ]
    }
   ],
   "source": [
    "import pandas as pd\n",
    "import glob, os\n",
    "import csv\n",
    "print(csv.__file__)\n",
    "\n",
    "\n",
    "\n",
    "name = []\n",
    "jumlah = 9\n",
    "ekivalen = []\n",
    "sumekivalen = 0\n",
    "death = []\n",
    "\n",
    "#Make zero\n",
    "for i in range (1,100):\n",
    "\tdeath.append(0)\n",
    "\tekivalen.append(0)\n",
    "    \n",
    "\n",
    "for i in range (1,6):\n",
    "\tfor j in range (1,10):\n",
    "\t\tpath_origin = \"D:\\\\Document\\\\PUPL\\\\FixMutationTestingRandom\\\\schedule\\\\schedule\\\\outputs\\\\ori\\\\TS%d\\\\\"%(i)\n",
    "\t\tpath_v = \"D:\\\\Document\\\\PUPL\\\\FixMutationTestingRandom\\\\schedule\\\\schedule\\\\outputs\\\\mutant\\\\v%d\\\\TS%d\\\\\"%((j),(i))\n",
    "\t\tTestCase = []\n",
    "\t\tnama = []\n",
    "\t\thasil_perbandinganan = []\n",
    "\t\tfci = 0\n",
    "\t\tnonfci=0\n",
    "\t\tfor file in os.listdir(path_origin):\n",
    "\t\t\tif file.startswith('t'):\n",
    "\t\t\t\tfile = file.split(\"\\\\\")\n",
    "\t\t\t\tfile_name = file[len(file)-1]\n",
    "    \n",
    "\t\t\t\tfile_origin = open(path_origin + file_name, \"r\")\n",
    "\t\t\t\tdata_origin = file_origin.read()\n",
    "    \n",
    "\t\t\t\tfile_v = open(path_v+file_name, \"r\")\n",
    "\t\t\t\tdata_v = file_v.read()\n",
    "    \n",
    "\t\t\t\tif(data_origin == data_v):\n",
    "\t\t\t\t\thasil_perbandinganan.append(\"non fci\")\n",
    "\t\t\t\t\tTestCase.append(\"non fci\")\n",
    "\t\t\t\t\tnonfci = nonfci + 1\n",
    "\t\t\t\telse:\n",
    "\t\t\t\t\thasil_perbandinganan.append(\"fci\")\n",
    "\t\t\t\t\tTestCase.append(\"fci\")\n",
    "\t\t\t\t\tfci = fci + 1\n",
    "\t\t\t\n",
    "\t\t\t\tname.append(file_name)\n",
    "\t\t\t\tnama.append(file_name)\n",
    "\t\t\t\tfile_origin.close()\n",
    "\t\t\t\tfile_v.close()\n",
    "\n",
    "\t\tif(fci > 0):\n",
    "\t\t\tdeath[i]+=1            \n",
    "\t\telse:\n",
    "\t\t\tekivalen[j]+=1  \n",
    "            \n",
    "\t\tprint (\"TS%d V%d menghasilkan FCI : %d dan Non-FCI : %d\" %((i),(j),(fci),(nonfci)))\n",
    "\n",
    "\t\towm = pd.DataFrame(nama,TestCase)\n",
    "\t\towm.to_csv(\"D:\\\\Document\\\\PUPL\\\\FixMutationTestingRandom\\\\schedule\\\\schedule\\\\result\\\\ori_v%d_TS%d.csv\" %((j),(i)), index = True, header = False)    \n",
    "        \n",
    "#\tprint(hasil_perbandinganan)  \n",
    "\tov = pd.DataFrame(nama,hasil_perbandinganan)\n",
    "\tov.to_csv(\"D:\\\\Document\\\\PUPL\\\\FixMutationTestingRandom\\\\schedule\\\\schedule\\\\result\\\\ori_version%d_TS.csv\" %(i), index = True, header = False)\n",
    "\n",
    "for i in range (1,10):\n",
    "\tif(ekivalen[i]==5):\n",
    "\t\tsumekivalen+=1\n",
    "        \n",
    "#For Mutant Score\n",
    "for i in range (1,6):\n",
    "\tscore = death[i]/(jumlah-sumekivalen)\n",
    "\tprint(\"TS%d Death = %d jumlah = %d sumekivalen = %d\"%((i),(death[i]),(jumlah),(sumekivalen)))\n",
    "\tprint(\"TS%d Menghasilkan Mutation Score : %f\"%((i),(score)))"
   ]
  },
  {
   "cell_type": "code",
   "execution_count": null,
   "metadata": {},
   "outputs": [],
   "source": []
  }
 ],
 "metadata": {
  "kernelspec": {
   "display_name": "Python 3",
   "language": "python",
   "name": "python3"
  },
  "language_info": {
   "codemirror_mode": {
    "name": "ipython",
    "version": 3
   },
   "file_extension": ".py",
   "mimetype": "text/x-python",
   "name": "python",
   "nbconvert_exporter": "python",
   "pygments_lexer": "ipython3",
   "version": "3.6.5"
  }
 },
 "nbformat": 4,
 "nbformat_minor": 2
}
